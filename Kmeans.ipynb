{
 "cells": [
  {
   "cell_type": "code",
   "execution_count": 1,
   "id": "2757e018-d0b7-43e6-823d-c80fe2a72457",
   "metadata": {},
   "outputs": [],
   "source": [
    "import numpy as np\n",
    "from numpy import dtype\n",
    "import netCDF4 as nc\n",
    "import xarray as xr\n",
    "import pandas as pd\n",
    "import matplotlib.pyplot as plt\n",
    "from sklearn.cluster import KMeans\n",
    "import sklearn\n",
    "from scipy import stats,signal\n",
    "from scipy.spatial.distance import cdist\n",
    "import datetime as dt\n",
    "from datetime import date\n",
    "import cartopy.crs as ccrs\n",
    "import cartopy.feature as cf\n",
    "import cartopy.mpl.ticker as cticker\n",
    "import cftime\n",
    "import dask\n",
    "import collections\n",
    "import scipy as scipy\n",
    "from scipy.signal import detrend\n",
    "from scipy import stats,signal\n",
    "import cfgrib\n",
    "import os\n",
    "import glob\n",
    "from yellowbrick.cluster import SilhouetteVisualizer\n",
    "from yellowbrick.cluster import KElbowVisualizer\n",
    "from sklearn.metrics import silhouette_score\n",
    "from eofs.standard import Eof\n",
    "from scipy.signal import butter, filtfilt"
   ]
  },
  {
   "cell_type": "code",
   "execution_count": null,
   "id": "b33892df-11c8-4ccb-b84a-2ed18f4d9704",
   "metadata": {},
   "outputs": [],
   "source": [
    "#define the latlon domain and the time period\n",
    "lat1=24;lat2=55\n",
    "lon1=230;lon2=300\n",
    "lev0 = 500\n",
    "iyr1=1960; iyr2=2022\n",
    "nyr=iyr2-iyr1+1\n",
    "dt01='-04-01';dt02='-07-31'\n",
    "ndy=(date(1979,7,31)-date(1979,4,1)).days +1"
   ]
  },
  {
   "cell_type": "code",
   "execution_count": null,
   "id": "c54ee508-089d-4972-aec8-eac33bb9fbf0",
   "metadata": {},
   "outputs": [],
   "source": [
    "#number of weather regimes\n",
    "nclusters=5"
   ]
  },
  {
   "cell_type": "code",
   "execution_count": null,
   "id": "849516bf-b7fe-403c-b13a-7b94bf05ccc6",
   "metadata": {},
   "outputs": [],
   "source": [
    "#input file info (ERA5 is publically available)\n",
    "dir = '/glade/u/home/mgraber/ERA5/annualdata/*.nc'\n",
    "df = xr.open_mfdataset(dir)"
   ]
  },
  {
   "cell_type": "code",
   "execution_count": null,
   "id": "5fe153ce-1788-45be-b236-688d82f15450",
   "metadata": {},
   "outputs": [],
   "source": [
    "# Calculate geopotential Height at 500 hPa\n",
    "heights = df.z/9.80665\n",
    "df['heights'] = heights"
   ]
  },
  {
   "cell_type": "code",
   "execution_count": null,
   "id": "037d62e3-d0e7-4c60-8ed4-b04be7ba56e5",
   "metadata": {},
   "outputs": [],
   "source": [
    "df.coords['longitude'] = (df.coords['longitude'] + 360)\n",
    "df = df.sortby(df.longitude)"
   ]
  },
  {
   "cell_type": "code",
   "execution_count": null,
   "id": "cccdda96-c944-42b1-ab5e-0c7e488739ca",
   "metadata": {},
   "outputs": [],
   "source": [
    "#read daily z500 data\n",
    "#note that the latitude dimension is reversed\n",
    "for iyr in range(iyr1,iyr2+1):\n",
    "   tm1=str(iyr)+dt01 \n",
    "   tm2=str(iyr)+dt02 \n",
    "   hgt0=df.heights.sel(time=slice(tm1,tm2), longitude=slice(lon1,lon2),latitude=slice(lat2,lat1))\n",
    "   if iyr==iyr1:\t#initialize hgt and extract latlon info\n",
    "      lats=hgt0['latitude'].values;\n",
    "      lons=hgt0['longitude'].values;\n",
    "      nn,nlat,nlon=hgt0.shape\n",
    "      heights=np.zeros((nyr,ndy,nlat,nlon))\n",
    "   hgt01=xr.concat([hgt0], dim='time')\n",
    "   heights[iyr-iyr1,:,:,:]=hgt01.rolling(time=5,center=True,min_periods=1).mean()\n",
    "print('Finish reading H500')\n",
    "hgt2=heights[0]"
   ]
  },
  {
   "cell_type": "code",
   "execution_count": null,
   "id": "11900781-be30-4877-9139-6e82634137a7",
   "metadata": {},
   "outputs": [],
   "source": [
    "# Input here annual means of the northern hemisphere (1960-2023)\n",
    "means = np.array([5639.813, 5632.539, 5631.536, 5630.46, 5621.321, 5629.218, 5631.369, 5628.906, 5634.269, 5632.497, 5630.712, 5633.057, 5629.118, 5635.877, 5622.955, 5633.181, 5622.389, 5634, 5634.116, 5640.860, 5642.944, 5639.301, 5635.26, 5636.912, 5634.96, 5635.571, 5633.023, 5643.526, 5647.316, 5637.255, 5636.718, 5642.672, 5626.458, 5645.321, 5635.684, 5648.243, 5636.616, 5640.313, 5656, 5641.954, 5636.824, 5636.632, 5639.409, 5643.032, 5649.548, 5651.986, 5646.229, 5645.056, 5646.278, 5641.797, 5658.013, 5646.117, 5651.6, 5645.093, 5643.743, 5650.469, 5663.132, 5646.585, 5648.475, 5665.287, 5663.693, 5653.840, 5652.557, 5656.943])\n",
    "means_2 = means[0:63]"
   ]
  },
  {
   "cell_type": "code",
   "execution_count": null,
   "id": "b66268dd-e9aa-45bd-a7ad-17838c9123b0",
   "metadata": {},
   "outputs": [],
   "source": [
    "# subtract seasonal mean and detrend\n",
    "heights = heights-means_2[:,None,None,None]\n",
    "heights = signal.detrend(heights,axis=0)"
   ]
  },
  {
   "cell_type": "code",
   "execution_count": null,
   "id": "af583f5e-4b95-4541-839e-53486ad52746",
   "metadata": {},
   "outputs": [],
   "source": [
    "#calculate a cosine weighting function\n",
    "lon2d,lat2d=np.meshgrid(lons,lats)\n",
    "wgt=np.cos(lat2d*np.pi/180.0)\n",
    "wgts=np.repeat(wgt[np.newaxis,:],nyr*ndy,axis=0)"
   ]
  },
  {
   "cell_type": "code",
   "execution_count": null,
   "id": "1b584f13-538b-4265-9e2d-248083118333",
   "metadata": {},
   "outputs": [],
   "source": [
    "#reshape the data to [ny*nday, nlon*nlat] to make it suitable for K-means\n",
    "hgt0=np.reshape(heights,(nyr*ndy,nlat,nlon))\t#un-weighted H500\n",
    "wgts=np.reshape(wgts,(nyr*ndy,nlat*nlon))\n",
    "heights=np.reshape(heights,(nyr*ndy,nlat*nlon))\n",
    "heights=heights*wgts"
   ]
  },
  {
   "cell_type": "code",
   "execution_count": null,
   "id": "1578d78d-c7d1-46c7-9fed-8377d9660bdd",
   "metadata": {},
   "outputs": [],
   "source": [
    "#apply the k-mean cluster analysis\n",
    "km_standard = KMeans(n_clusters=nclusters,random_state=0).fit(heights)\n",
    "labels = km_standard.labels_ \t\t#of the dimension (nyr*ndy)\n",
    "WR0 = km_standard.cluster_centers_\t#cluster centers\n",
    "WR0 = np.reshape(WR0,(nclusters,nlat,nlon))"
   ]
  },
  {
   "cell_type": "code",
   "execution_count": null,
   "id": "dea3c6f4-01fe-4334-afaf-fadb9844505e",
   "metadata": {},
   "outputs": [],
   "source": [
    "# Calculate the seasonal frequency\n",
    "# Calculate the cluster freq.\n",
    "\n",
    "length = len(labels)\n",
    "years=[]\n",
    "seascounts = []\n",
    "for x in range(int(length/122)):  # 122 represents the number of days per year in the warm season\n",
    "        years.append(labels[x*122:(x+1)*122])\n",
    "    \n",
    "        seascounts.append(np.unique(years[x],return_counts=True))\n",
    "\n",
    "unique,counts=np.unique(labels, return_counts=True)\n",
    "freq=np.round(100.0*counts/len(labels),1)"
   ]
  },
  {
   "cell_type": "code",
   "execution_count": null,
   "id": "ab7d24e8-2b1c-43dc-8d41-689566682d0a",
   "metadata": {},
   "outputs": [],
   "source": [
    "#calculate the cluster mean using un-weighted data\n",
    "WRs=np.zeros((nclusters,nlat,nlon)) \n",
    "for i in unique:\n",
    "    D=np.where(labels==i)\n",
    "    WRs[i]=np.nanmean(hgt0[D],axis=0)"
   ]
  },
  {
   "cell_type": "code",
   "execution_count": null,
   "id": "2fd61803-8a5d-4947-84c1-7ddb767ae347",
   "metadata": {},
   "outputs": [],
   "source": [
    "#order WRs with descending freq. by multiplying -1.0\n",
    "ii=np.argsort(-1.0*freq)\n",
    "freq=freq[ii]\n",
    "WRs=WRs[ii]"
   ]
  }
 ],
 "metadata": {
  "kernelspec": {
   "display_name": "Python [conda env:.conda-myenv]",
   "language": "python",
   "name": "conda-env-.conda-myenv-py"
  },
  "language_info": {
   "codemirror_mode": {
    "name": "ipython",
    "version": 3
   },
   "file_extension": ".py",
   "mimetype": "text/x-python",
   "name": "python",
   "nbconvert_exporter": "python",
   "pygments_lexer": "ipython3",
   "version": "3.7.16"
  }
 },
 "nbformat": 4,
 "nbformat_minor": 5
}
