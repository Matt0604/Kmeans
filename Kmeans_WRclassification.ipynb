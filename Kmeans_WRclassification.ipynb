{
 "cells": [
  {
   "cell_type": "code",
   "execution_count": 1,
   "id": "69645e60-0557-4fd5-b2dc-2a85f8fe6974",
   "metadata": {},
   "outputs": [],
   "source": [
    "# Import packages\n",
    "import numpy as np\n",
    "from numpy import dtype\n",
    "import netCDF4 as nc\n",
    "import xarray as xr\n",
    "import pandas as pd\n",
    "import matplotlib.pyplot as plt\n",
    "from sklearn.cluster import KMeans\n",
    "import sklearn\n",
    "from scipy import stats,signal\n",
    "from scipy.spatial.distance import cdist\n",
    "import datetime as dt\n",
    "from datetime import date\n",
    "import cartopy.crs as ccrs\n",
    "import cartopy.feature as cf\n",
    "import cartopy.mpl.ticker as cticker\n",
    "import cftime\n",
    "import dask\n",
    "from dask.distributed import Client, progress\n",
    "import dask.array as da\n",
    "import collections\n",
    "import scipy as scipy\n",
    "from scipy.signal import detrend\n",
    "from scipy import stats,signal\n",
    "import cfgrib\n",
    "import os\n",
    "import glob\n",
    "from yellowbrick.cluster import SilhouetteVisualizer\n",
    "from yellowbrick.cluster import KElbowVisualizer\n",
    "from sklearn.metrics import silhouette_score\n",
    "from eofs.standard import Eof\n",
    "from scipy.signal import butter, filtfilt\n",
    "from sklearn.preprocessing import StandardScaler\n",
    "from sklearn.metrics import davies_bouldin_score\n",
    "from sklearn.decomposition import PCA\n",
    "from sklearn.linear_model import LinearRegression"
   ]
  },
  {
   "cell_type": "code",
   "execution_count": 2,
   "id": "02aedf27-0664-48dc-a133-371e19ee8c0b",
   "metadata": {},
   "outputs": [],
   "source": [
    "def rearrange_by_frequency(array):\n",
    "    # Count the occurrences of each unique value\n",
    "    unique, counts = np.unique(array, return_counts=True)\n",
    "    freq_map = dict(zip(unique, counts))\n",
    "    \n",
    "    # Sort unique values by descending frequency\n",
    "    sorted_values = sorted(freq_map.keys(), key=lambda x: freq_map[x], reverse=True)\n",
    "    \n",
    "    # Create a mapping where the most frequent gets 0, second most gets 1, etc.\n",
    "    mapping = {old_val: new_val for new_val, old_val in enumerate(sorted_values)}\n",
    "    \n",
    "    # Apply the mapping to the array\n",
    "    rearranged_array = np.vectorize(mapping.get)(array)\n",
    "    return rearranged_array, mapping"
   ]
  },
  {
   "cell_type": "code",
   "execution_count": 14,
   "id": "0877924c-8b78-4b2c-9883-c270f15106de",
   "metadata": {},
   "outputs": [],
   "source": [
    "#define the latlon domain and the time period\n",
    "lat1=24;lat2=55\n",
    "lon1=230;lon2=300\n",
    "lev0 = 500\n",
    "iyr1=1960; iyr2=2022\n",
    "nyr=iyr2-iyr1+1\n",
    "dt01='-04-01';dt02='-07-31'\n",
    "ndy=(date(1979,7,31)-date(1979,4,1)).days +1"
   ]
  },
  {
   "cell_type": "code",
   "execution_count": 4,
   "id": "d7cae237-6a8d-4c1b-a876-6e7e9837d234",
   "metadata": {},
   "outputs": [],
   "source": [
    "#number of weather regimes\n",
    "nclusters=5"
   ]
  },
  {
   "cell_type": "code",
   "execution_count": 5,
   "id": "3de725dc-a757-49cc-89a7-866bb9eaeb66",
   "metadata": {},
   "outputs": [],
   "source": [
    "# Input file data\n",
    "dir = f'/glade/u/home/mgraber/ERA5/*.nc'"
   ]
  },
  {
   "cell_type": "code",
   "execution_count": 7,
   "id": "ecbe6601-ad7d-4f9b-8465-fc738105ad4d",
   "metadata": {},
   "outputs": [],
   "source": [
    "df = xr.open_mfdataset(dir)"
   ]
  },
  {
   "cell_type": "code",
   "execution_count": 8,
   "id": "5948a257-6748-482a-9751-813407bac57c",
   "metadata": {},
   "outputs": [
    {
     "name": "stderr",
     "output_type": "stream",
     "text": [
      "/glade/u/home/mgraber/.conda/envs/myenv/lib/python3.7/site-packages/xarray/core/indexing.py:1227: PerformanceWarning: Slicing is producing a large chunk. To accept the large\n",
      "chunk and silence this warning, set the option\n",
      "    >>> with dask.config.set(**{'array.slicing.split_large_chunks': False}):\n",
      "    ...     array[indexer]\n",
      "\n",
      "To avoid creating the large chunks, set the option\n",
      "    >>> with dask.config.set(**{'array.slicing.split_large_chunks': True}):\n",
      "    ...     array[indexer]\n",
      "  return self.array[key]\n"
     ]
    }
   ],
   "source": [
    "df_all = df\n",
    "# Now select only April 1 to July 31 for every year\n",
    "\n",
    "# Define year range\n",
    "start_year = 1960\n",
    "end_year = 2022\n",
    "\n",
    "df_filtered = df_all.sel(time=df_all.time.where(\n",
    "    (\n",
    "        ((df_all.time.dt.month > 3) & (df_all.time.dt.month < 8)) |\n",
    "        ((df_all.time.dt.month == 4) & (df_all.time.dt.day >= 1)) |\n",
    "        ((df_all.time.dt.month == 7) & (df_all.time.dt.day <= 31))\n",
    "    )\n",
    "    & \n",
    "    ((df_all.time.dt.year >= start_year) & (df_all.time.dt.year <= end_year))\n",
    ").dropna('time'))"
   ]
  },
  {
   "cell_type": "code",
   "execution_count": 9,
   "id": "ef55f36a-2713-47af-8c8e-31d5b4b816a7",
   "metadata": {},
   "outputs": [
    {
     "name": "stdout",
     "output_type": "stream",
     "text": [
      "Finish reading H500\n"
     ]
    }
   ],
   "source": [
    "#read daily z500 data\n",
    "#note that the latitude dimension is reversed\n",
    "for iyr in range(iyr1,iyr2+1):\n",
    "   tm1=str(iyr)+dt01 \n",
    "   tm2=str(iyr)+dt02 \n",
    "   hgt0=df.heights.sel(time=slice(tm1,tm2), longitude=slice(lon1,lon2), latitude=slice(lat2,lat1))\n",
    "   if iyr==iyr1:\t#initialize hgt and extract latlon info\n",
    "      lats=hgt0['latitude'].values;\n",
    "      lons=hgt0['longitude'].values;\n",
    "      nn,nlat,nlon=hgt0.shape\n",
    "      heights=np.zeros((nyr,ndy,nlat,nlon))\n",
    "\n",
    "   hgt01=xr.concat([hgt0], dim='time')\n",
    "   heights[iyr-iyr1,:,:,:]=hgt01.rolling(time=5,center=True,min_periods=5).mean()\n",
    "print('Finish reading H500')\n",
    "hgt2=heights[0]"
   ]
  },
  {
   "cell_type": "code",
   "execution_count": 10,
   "id": "75babc18-6278-4784-89f3-d74f5e3a47ba",
   "metadata": {},
   "outputs": [],
   "source": [
    "data = df_filtered.heights\n",
    "# Reshape data to group every 61 days (each year) together\n",
    "reshaped = data.coarsen(time=122, boundary=\"trim\").mean()\n",
    "\n",
    "# Compute the mean across all grid points and pressure levels\n",
    "annual_means = reshaped.mean(dim=[\"latitude\", \"longitude\"]).compute()\n",
    "\n",
    "# Convert to NumPy array if needed\n",
    "annual_means_np = annual_means.values"
   ]
  },
  {
   "cell_type": "code",
   "execution_count": 11,
   "id": "b012f9fd-4145-4cdf-8e4a-6c046a287179",
   "metadata": {},
   "outputs": [],
   "source": [
    "#remove the seasonal cycle (the 63-year running mean on each calendar day) for April 1st-July 31st\n",
    "heights=heights[:,2:124,:,:]-np.mean(heights[:,2:124,:,:],axis=0)"
   ]
  },
  {
   "cell_type": "code",
   "execution_count": 13,
   "id": "34b25815-0cf4-4441-bd0c-86b1f22245f6",
   "metadata": {},
   "outputs": [],
   "source": [
    "from scipy.stats import linregress\n",
    "# heights: shape [nyears, ndays, nlat, nlon]\n",
    "ny, nd, nlat, nlon = heights.shape\n",
    "\n",
    "# Prepare regression variable: NH seasonal mean trend\n",
    "X = (annual_means_np - np.mean(annual_means_np))  # seasonal means shape is (ny,)\n",
    "#X = X[:, np.newaxis]  # shape: [ny, 1]\n",
    "\n",
    "# Loop over calendar days, latitudes, and longitudes to regress out hemispheric seasonal trend\n",
    "for iday in range(nd):\n",
    "    for ilat in range(nlat):\n",
    "        for ilon in range(nlon):\n",
    "            y = heights[:, iday, ilat, ilon]\n",
    "            slope, intercept, _, _, _ = linregress(X, y)\n",
    "            trend_component = slope * X + intercept\n",
    "            heights[:, iday, ilat, ilon] = y - trend_component"
   ]
  },
  {
   "cell_type": "code",
   "execution_count": 15,
   "id": "81adedd2-2b8e-4b7d-aad4-7ff8240c3f54",
   "metadata": {},
   "outputs": [],
   "source": [
    "#calculate a cosine weighting function\n",
    "lon2d,lat2d=np.meshgrid(lons,lats)\n",
    "wgt=np.cos(lat2d*np.pi/180.0)\n",
    "wgts=np.repeat(wgt[np.newaxis,:],nyr*ndy,axis=0)"
   ]
  },
  {
   "cell_type": "code",
   "execution_count": 16,
   "id": "180d175e-3e12-4eef-a4ca-2ea6e3f3a2fd",
   "metadata": {},
   "outputs": [],
   "source": [
    "#reshape the data to [ny*nday, nlon*nlat]\n",
    "hgt0=np.reshape(heights,(nyr*ndy,nlat,nlon))\t#un-weighted H500\n",
    "wgts=np.reshape(wgts,(nyr*ndy,nlat*nlon))\n",
    "heights=np.reshape(heights,(nyr*ndy,nlat*nlon))\n",
    "heights=heights*wgts"
   ]
  },
  {
   "cell_type": "code",
   "execution_count": 17,
   "id": "8916c04b-d2b7-4893-8424-d80261407287",
   "metadata": {},
   "outputs": [],
   "source": [
    "# Apply an EOF filter\n",
    "solver = Eof(heights)"
   ]
  },
  {
   "cell_type": "code",
   "execution_count": 18,
   "id": "a6db7d3d-4b11-4d36-8b6a-aca0351e6061",
   "metadata": {},
   "outputs": [
    {
     "data": {
      "image/png": "[encoded data removed]",
      "text/plain": [
       "<Figure size 1000x500 with 1 Axes>"
      ]
     },
     "metadata": {},
     "output_type": "display_data"
    }
   ],
   "source": [
    "# Assuming `solver` is already computed from your EOF analysis\n",
    "variance_fraction = solver.varianceFraction()  # Get all variance fractions\n",
    "\n",
    "# Select the first 20 EOFs\n",
    "variance_fraction_percent = variance_fraction[:20] * 100  # Convert to percentage\n",
    "\n",
    "# Plot the explained variance\n",
    "plt.figure(figsize=(10, 5))\n",
    "plt.bar(range(1, 21), variance_fraction_percent, color='dodgerblue', edgecolor='black')\n",
    "\n",
    "# Labels and title\n",
    "plt.xlabel(\"EOF Mode Number\")\n",
    "plt.ylabel(\"Explained Variance (%)\")\n",
    "plt.title(\"Explained Variance by EOF Mode (First 20 EOFs)\")\n",
    "plt.xticks(range(1, 21, 5))  # Show every 5th EOF number for readability\n",
    "plt.grid(axis=\"y\", linestyle=\"--\", alpha=0.7)\n",
    "\n",
    "plt.show()"
   ]
  },
  {
   "cell_type": "code",
   "execution_count": 19,
   "id": "9c74f3c4-e2e2-49f8-a6fe-35969dbd0046",
   "metadata": {},
   "outputs": [
    {
     "name": "stdout",
     "output_type": "stream",
     "text": [
      "% of Variance account for: 89.92857488146687\n"
     ]
    }
   ],
   "source": [
    "# Step 2: Retain the first 8 EOFs\n",
    "n_eofs = 8\n",
    "pc_scores = solver.pcs(npcs=n_eofs, pcscaling=1)  # Principal Component scores\n",
    "eof_modes = solver.eofs(neofs=n_eofs)  # Spatial EOFs\n",
    "eigenvalues = solver.eigenvalues()[:n_eofs]  # First 8 eigenvalues\n",
    "\n",
    "# Step 3: Scale EOFs by the square root of eigenvalues\n",
    "eof_modes_scaled = eof_modes * np.sqrt(eigenvalues[:, np.newaxis])\n",
    "\n",
    "# Step 4: Reconstruct the filtered dataset\n",
    "heights_eof_filtered = np.tensordot(pc_scores, eof_modes_scaled, axes=(1, 0))\n",
    "\n",
    "# Step 5: Check variance again\n",
    "print(\"% of Variance account for:\", np.var(heights_eof_filtered)/np.var(heights) * 100)"
   ]
  },
  {
   "cell_type": "code",
   "execution_count": 20,
   "id": "f5c52d0d-1719-4648-a54c-c9826beb7832",
   "metadata": {},
   "outputs": [
    {
     "data": {
      "image/png": "[encoded data removed]",
      "text/plain": [
       "<Figure size 800x550 with 1 Axes>"
      ]
     },
     "metadata": {},
     "output_type": "display_data"
    }
   ],
   "source": [
    "dbi_scores = []\n",
    "K = range(2, 11)  \n",
    "for k in K:\n",
    "    kmeans = KMeans(n_clusters=k, random_state=42).fit(heights_eof_filtered)\n",
    "    labels = kmeans.labels_\n",
    "    dbi_scores.append(davies_bouldin_score(heights_eof_filtered, labels))\n",
    "\n",
    "# Optional: Plot DBI scores\n",
    "plt.plot(K, dbi_scores, 'ro-')\n",
    "plt.xlabel('Number of Clusters')\n",
    "plt.ylabel('Davies-Bouldin Index')\n",
    "plt.title('Davies-Bouldin Index vs. Number of Clusters')\n",
    "plt.show()"
   ]
  },
  {
   "cell_type": "code",
   "execution_count": null,
   "id": "79cb40fc-b717-42e4-9584-6b40c7a68ee7",
   "metadata": {},
   "outputs": [],
   "source": [
    "#apply the k-mean cluster analysis\n",
    "km_standard = KMeans(n_clusters=nclusters,random_state=0, n_init=20).fit(heights_eof_filtered)\n",
    "labels = km_standard.labels_ \t\t#of the dimension (nyr*ndy)\n",
    "WR0 = km_standard.cluster_centers_\t#cluster centers\n",
    "WR0 = np.reshape(WR0,(nclusters,nlat,nlon))"
   ]
  },
  {
   "cell_type": "code",
   "execution_count": null,
   "id": "8b3f1e2a-f923-4b6f-a3ff-aeb63ba26e2c",
   "metadata": {},
   "outputs": [],
   "source": [
    "# Calculate unique counts and frequencies\n",
    "unique, counts = np.unique(labels, return_counts=True)\n",
    "freq = np.round(100.0 * counts / len(labels), 1)"
   ]
  },
  {
   "cell_type": "code",
   "execution_count": null,
   "id": "689fb8e9-dc48-47b9-b2ae-9a26a0637e33",
   "metadata": {},
   "outputs": [],
   "source": [
    "#calculate the cluster mean using un-weighted data\n",
    "WRs=np.zeros((nclusters,nlat,nlon)) \n",
    "for i in unique:\n",
    "    D=np.where(labels==i)\n",
    "    WRs[i]=np.nanmean(hgt0[D],axis=0)"
   ]
  },
  {
   "cell_type": "code",
   "execution_count": null,
   "id": "90bc6000-befb-4543-82b5-0769d24d235c",
   "metadata": {},
   "outputs": [],
   "source": [
    "#order WRs with descending freq. by multiplying -1.0\n",
    "ii=np.argsort(-1.0*freq)\n",
    "freq=freq[ii]\n",
    "WRs=WRs[ii]"
   ]
  },
  {
   "cell_type": "code",
   "execution_count": null,
   "id": "ab226629-4ad1-4393-abd7-b63b389faa7d",
   "metadata": {},
   "outputs": [],
   "source": [
    "#relabel\n",
    "ll=np.copy(labels)\n",
    "for i in range(nclusters):\n",
    "   labels[ll==ii[i]]=i"
   ]
  },
  {
   "cell_type": "code",
   "execution_count": null,
   "id": "252f9297-88d0-4006-8da8-3ebb624c52dc",
   "metadata": {},
   "outputs": [],
   "source": [
    "np.save('19602022_WRsdownload_AMJJ_ERA5_structures.npy', WRs)"
   ]
  },
  {
   "cell_type": "code",
   "execution_count": null,
   "id": "7b18a0c7-c6fd-4d4a-a721-f97e67ec8dac",
   "metadata": {},
   "outputs": [],
   "source": [
    "# plot each regime\n",
    "mode_name=['(a)','(b)','(c)','(d)', '(e)']\n",
    "fig, axes = plt.subplots(nrows=3, ncols=2,figsize=(12,8),\n",
    "    subplot_kw={'projection': ccrs.PlateCarree()})\n",
    "\n",
    "axes=axes.T.flat\n",
    "for kk in range(nclusters):\n",
    "    axx=axes[kk]\n",
    "    levels=np.arange(-80,80.1,10)\n",
    "    im0 = axx.contourf(lon2d,lat2d,WRs[kk],levels,cmap = plt.get_cmap('RdBu_r'),extend='both')\n",
    "    im1 = axx.contour(lon2d,lat2d,WRs[kk],levels,colors='k')\n",
    " \n",
    "    axx.coastlines()\n",
    "    axx.set_title(mode_name[kk]+' '+str(freq[kk])+'%',fontsize=15,loc='left')\n",
    "    axx.add_feature(cf.BORDERS)\n",
    "    axx.add_feature(cf.STATES)\n",
    "    kk=kk+1\n",
    "plt.suptitle('ERA-5 AMJJ 1960-2022',fontsize=15,y=0.98)\n",
    "fig.tight_layout()\n",
    "plt.subplots_adjust(top=0.85,bottom=0.15,left=0.10,right=0.95,hspace=0.3,\n",
    "wspace=0.20)\n",
    "cbar_ax = fig.add_axes([0.15, 0.05, 0.7, 0.03]) # left, bottom height ,length, width\n",
    "fig.colorbar(im0,orientation='horizontal',cax=cbar_ax)\n",
    "fmt=\"png\"\n",
    "#plt.savefig('WR-H500-5-AMJJ-20002022_ERA5_structures.'+fmt,format=fmt,bbox_inches='tight')\n",
    "plt.show(block=False)\n",
    "print('Normal End!') "
   ]
  },
  {
   "cell_type": "code",
   "execution_count": null,
   "id": "da832da9-fc91-4de1-9b67-6f16b183641a",
   "metadata": {},
   "outputs": [],
   "source": []
  }
 ],
 "metadata": {
  "kernelspec": {
   "display_name": "Python [conda env:.conda-myenv]",
   "language": "python",
   "name": "conda-env-.conda-myenv-py"
  },
  "language_info": {
   "codemirror_mode": {
    "name": "ipython",
    "version": 3
   },
   "file_extension": ".py",
   "mimetype": "text/x-python",
   "name": "python",
   "nbconvert_exporter": "python",
   "pygments_lexer": "ipython3",
   "version": "3.7.16"
  }
 },
 "nbformat": 4,
 "nbformat_minor": 5
}
